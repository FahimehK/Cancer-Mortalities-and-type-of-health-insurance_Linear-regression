{
 "cells": [
  {
   "cell_type": "markdown",
   "metadata": {},
   "source": [
    "The data was collected form 'https://data.world/nrippner/ols-regression-challenge/workspace/project-summary', \n",
    "https://www.cdc.gov/cancer/dcpc/data/other.htm\n",
    "cancer.gov\n"
   ]
  },
  {
   "cell_type": "markdown",
   "metadata": {},
   "source": [
    "# Data Dictionary:"
   ]
  },
  {
   "cell_type": "markdown",
   "metadata": {},
   "source": [
    "TARGET_deathRate: Dependent variable. Mean per capita (100,000) cancer mortalities(a)\n",
    "\n",
    "avgAnnCount: Mean number of reported cases of cancer diagnosed annually(a)\n",
    "\n",
    "avgDeathsPerYear: Mean number of reported mortalities due to cancer(a)\n",
    "\n",
    "incidenceRate: Mean per capita (100,000) cancer diagoses(a)\n",
    "\n",
    "medianIncome: Median income per county (b)\n",
    "\n",
    "popEst2015: Population of county (b)\n",
    "\n",
    "povertyPercent: Percent of populace in poverty (b)\n",
    "\n",
    "studyPerCap: Per capita number of cancer-related clinical trials per county (a)\n",
    "\n",
    "binnedInc: Median income per capita binned by decile (b)\n",
    "\n",
    "MedianAge: Median age of county residents (b)\n",
    "\n",
    "MedianAgeMale: Median age of male county residents (b)\n",
    "\n",
    "MedianAgeFemale: Median age of female county residents (b)\n",
    "\n",
    "Geography: County name (b)\n",
    "\n",
    "AvgHouseholdSize: Mean household size of county (b)\n",
    "\n",
    "PercentMarried: Percent of county residents who are married (b)\n",
    "\n",
    "PctNoHS18_24: Percent of county residents ages 18-24 highest education attained: less than high school (b)\n",
    "\n",
    "PctHS18_24: Percent of county residents ages 18-24 highest education attained: high school diploma (b)\n",
    "\n",
    "PctSomeCol18_24: Percent of county residents ages 18-24 highest education attained: some college (b)\n",
    "\n",
    "PctBachDeg18_24: Percent of county residents ages 18-24 highest education attained: bachelor's degree (b)\n",
    "\n",
    "PctHS25_Over: Percent of county residents ages 25 and over highest education attained: high school diploma (b)\n",
    "\n",
    "PctBachDeg25_Over: Percent of county residents ages 25 and over highest education attained: bachelor's degree (b)\n",
    "\n",
    "PctEmployed16_Over: Percent of county residents ages 16 and over employed (b)\n",
    "\n",
    "PctUnemployed16_Over: Percent of county residents ages 16 and over unemployed (b)\n",
    "\n",
    "PctPrivateCoverage: Percent of county residents with private health coverage (b)\n",
    "\n",
    "PctPrivateCoverageAlone: Percent of county residents with private health coverage alone (no public assistance) (b)\n",
    "\n",
    "PctEmpPrivCoverage: Percent of county residents with employee-provided private health coverage (b)\n",
    "\n",
    "PctPublicCoverage: Percent of county residents with government-provided health coverage (b)\n",
    "\n",
    "PctPubliceCoverageAlone: Percent of county residents with government-provided health coverage alone (b)\n",
    "\n",
    "PctWhite: Percent of county residents who identify as White (b)\n",
    "\n",
    "PctBlack: Percent of county residents who identify as Black (b)\n",
    "\n",
    "PctAsian: Percent of county residents who identify as Asian (b)\n",
    "\n",
    "PctOtherRace: Percent of county residents who identify in a category which is not White, Black, or Asian (b)\n",
    "\n",
    "PctMarriedHouseholds: Percent of married households (b)\n",
    "\n",
    "BirthRate: Number of live births relative to number of women in county (b)"
   ]
  },
  {
   "cell_type": "code",
   "execution_count": 1,
   "metadata": {},
   "outputs": [],
   "source": [
    "# Necessary imports\n",
    "import pandas as pd\n",
    "import numpy as np\n",
    "import seaborn as sns\n",
    "import pickle"
   ]
  },
  {
   "cell_type": "code",
   "execution_count": 3,
   "metadata": {},
   "outputs": [],
   "source": [
    "#Load in the cancer mortality data \n",
    "data_2 = pd.read_csv('cancer_reg.csv')"
   ]
  },
  {
   "cell_type": "code",
   "execution_count": 4,
   "metadata": {},
   "outputs": [
    {
     "data": {
      "text/html": [
       "<div>\n",
       "<style scoped>\n",
       "    .dataframe tbody tr th:only-of-type {\n",
       "        vertical-align: middle;\n",
       "    }\n",
       "\n",
       "    .dataframe tbody tr th {\n",
       "        vertical-align: top;\n",
       "    }\n",
       "\n",
       "    .dataframe thead th {\n",
       "        text-align: right;\n",
       "    }\n",
       "</style>\n",
       "<table border=\"1\" class=\"dataframe\">\n",
       "  <thead>\n",
       "    <tr style=\"text-align: right;\">\n",
       "      <th></th>\n",
       "      <th>avganncount</th>\n",
       "      <th>avgdeathsperyear</th>\n",
       "      <th>target_deathrate</th>\n",
       "      <th>incidencerate</th>\n",
       "      <th>medincome</th>\n",
       "      <th>popest2015</th>\n",
       "      <th>povertypercent</th>\n",
       "      <th>studypercap</th>\n",
       "      <th>binnedinc</th>\n",
       "      <th>medianage</th>\n",
       "      <th>...</th>\n",
       "      <th>pctprivatecoveragealone</th>\n",
       "      <th>pctempprivcoverage</th>\n",
       "      <th>pctpubliccoverage</th>\n",
       "      <th>pctpubliccoveragealone</th>\n",
       "      <th>pctwhite</th>\n",
       "      <th>pctblack</th>\n",
       "      <th>pctasian</th>\n",
       "      <th>pctotherrace</th>\n",
       "      <th>pctmarriedhouseholds</th>\n",
       "      <th>birthrate</th>\n",
       "    </tr>\n",
       "  </thead>\n",
       "  <tbody>\n",
       "    <tr>\n",
       "      <th>0</th>\n",
       "      <td>1397.0</td>\n",
       "      <td>469</td>\n",
       "      <td>164.9</td>\n",
       "      <td>489.8</td>\n",
       "      <td>61898</td>\n",
       "      <td>260131</td>\n",
       "      <td>11.2</td>\n",
       "      <td>499.748204</td>\n",
       "      <td>(61494.5, 125635]</td>\n",
       "      <td>39.3</td>\n",
       "      <td>...</td>\n",
       "      <td>NaN</td>\n",
       "      <td>41.6</td>\n",
       "      <td>32.9</td>\n",
       "      <td>14.0</td>\n",
       "      <td>81.780529</td>\n",
       "      <td>2.594728</td>\n",
       "      <td>4.821857</td>\n",
       "      <td>1.843479</td>\n",
       "      <td>52.856076</td>\n",
       "      <td>6.118831</td>\n",
       "    </tr>\n",
       "    <tr>\n",
       "      <th>1</th>\n",
       "      <td>173.0</td>\n",
       "      <td>70</td>\n",
       "      <td>161.3</td>\n",
       "      <td>411.6</td>\n",
       "      <td>48127</td>\n",
       "      <td>43269</td>\n",
       "      <td>18.6</td>\n",
       "      <td>23.111234</td>\n",
       "      <td>(48021.6, 51046.4]</td>\n",
       "      <td>33.0</td>\n",
       "      <td>...</td>\n",
       "      <td>53.8</td>\n",
       "      <td>43.6</td>\n",
       "      <td>31.1</td>\n",
       "      <td>15.3</td>\n",
       "      <td>89.228509</td>\n",
       "      <td>0.969102</td>\n",
       "      <td>2.246233</td>\n",
       "      <td>3.741352</td>\n",
       "      <td>45.372500</td>\n",
       "      <td>4.333096</td>\n",
       "    </tr>\n",
       "  </tbody>\n",
       "</table>\n",
       "<p>2 rows × 33 columns</p>\n",
       "</div>"
      ],
      "text/plain": [
       "   avganncount  avgdeathsperyear  target_deathrate  incidencerate  medincome  \\\n",
       "0       1397.0               469             164.9          489.8      61898   \n",
       "1        173.0                70             161.3          411.6      48127   \n",
       "\n",
       "   popest2015  povertypercent  studypercap           binnedinc  medianage  \\\n",
       "0      260131            11.2   499.748204   (61494.5, 125635]       39.3   \n",
       "1       43269            18.6    23.111234  (48021.6, 51046.4]       33.0   \n",
       "\n",
       "   ...  pctprivatecoveragealone  pctempprivcoverage pctpubliccoverage  \\\n",
       "0  ...                      NaN                41.6              32.9   \n",
       "1  ...                     53.8                43.6              31.1   \n",
       "\n",
       "   pctpubliccoveragealone   pctwhite  pctblack  pctasian  pctotherrace  \\\n",
       "0                    14.0  81.780529  2.594728  4.821857      1.843479   \n",
       "1                    15.3  89.228509  0.969102  2.246233      3.741352   \n",
       "\n",
       "   pctmarriedhouseholds  birthrate  \n",
       "0             52.856076   6.118831  \n",
       "1             45.372500   4.333096  \n",
       "\n",
       "[2 rows x 33 columns]"
      ]
     },
     "execution_count": 4,
     "metadata": {},
     "output_type": "execute_result"
    }
   ],
   "source": [
    "#getting the columns to understand our target and features \n",
    "data_2.head(2)"
   ]
  },
  {
   "cell_type": "code",
   "execution_count": 5,
   "metadata": {},
   "outputs": [
    {
     "data": {
      "text/plain": [
       "Index(['avganncount', 'avgdeathsperyear', 'target_deathrate', 'incidencerate',\n",
       "       'medincome', 'popest2015', 'povertypercent', 'studypercap', 'binnedinc',\n",
       "       'medianage', 'medianagemale', 'medianagefemale', 'geography',\n",
       "       'percentmarried', 'pctnohs18_24', 'pcths18_24', 'pctsomecol18_24',\n",
       "       'pctbachdeg18_24', 'pcths25_over', 'pctbachdeg25_over',\n",
       "       'pctemployed16_over', 'pctunemployed16_over', 'pctprivatecoverage',\n",
       "       'pctprivatecoveragealone', 'pctempprivcoverage', 'pctpubliccoverage',\n",
       "       'pctpubliccoveragealone', 'pctwhite', 'pctblack', 'pctasian',\n",
       "       'pctotherrace', 'pctmarriedhouseholds', 'birthrate'],\n",
       "      dtype='object')"
      ]
     },
     "execution_count": 5,
     "metadata": {},
     "output_type": "execute_result"
    }
   ],
   "source": [
    "data_2.columns"
   ]
  },
  {
   "cell_type": "code",
   "execution_count": 6,
   "metadata": {},
   "outputs": [],
   "source": [
    "#change the columns name to what makes sense to me for my invistigation \n",
    "data_2.rename(columns = {'target_deathrate':'cancer_mortalities', 'avganncount':'diagnosed_annually',\n",
    " 'medincome':'median_income', 'popest2015':'population_county','studypercap':'study_per_county',\n",
    " 'medianage':'median_age','medianagemale':'median_age_male','medianagefemale':'median_age_female', \n",
    " 'geography':'geography','avghouseholdSize':'avg_house_hold_size','pctprivatecoveragealone':'only_private_coverage', \n",
    " 'pctpubliccoveragealone':'only_public_covearge','pctemployed16_over':'pct_employed', \n",
    " 'pctunemployed16_over':'pct_unemployed','povertypercent':'poverty_pct','pctwhite':'pct_white', \n",
    " 'pctblack':'pct_black','pctasian':'pct_asian', 'pctempprivcoverage':'pct_employer_coverage'}, inplace= True)"
   ]
  },
  {
   "cell_type": "code",
   "execution_count": 7,
   "metadata": {},
   "outputs": [
    {
     "data": {
      "text/plain": [
       "Index(['diagnosed_annually', 'avgdeathsperyear', 'cancer_mortalities',\n",
       "       'incidencerate', 'median_income', 'population_county', 'poverty_pct',\n",
       "       'study_per_county', 'binnedinc', 'median_age', 'median_age_male',\n",
       "       'median_age_female', 'geography', 'percentmarried', 'pctnohs18_24',\n",
       "       'pcths18_24', 'pctsomecol18_24', 'pctbachdeg18_24', 'pcths25_over',\n",
       "       'pctbachdeg25_over', 'pct_employed', 'pct_unemployed',\n",
       "       'pctprivatecoverage', 'only_private_coverage', 'pct_employer_coverage',\n",
       "       'pctpubliccoverage', 'only_public_covearge', 'pct_white', 'pct_black',\n",
       "       'pct_asian', 'pctotherrace', 'pctmarriedhouseholds', 'birthrate'],\n",
       "      dtype='object')"
      ]
     },
     "execution_count": 7,
     "metadata": {},
     "output_type": "execute_result"
    }
   ],
   "source": [
    "data_2.columns"
   ]
  },
  {
   "cell_type": "code",
   "execution_count": 8,
   "metadata": {},
   "outputs": [],
   "source": [
    "#drop the unwanted columns \n",
    "data_2.drop(['incidencerate','binnedinc','percentmarried','pctnohs18_24','pcths18_24','pctsomecol18_24',\n",
    "             'pctbachdeg18_24','pcths25_over','pctbachdeg25_over','pctprivatecoverage',\n",
    "             'pctpubliccoverage','pctotherrace','pctmarriedhouseholds','birthrate','avgdeathsperyear', \n",
    "             'median_age'], axis=1, inplace=True)"
   ]
  },
  {
   "cell_type": "code",
   "execution_count": 9,
   "metadata": {},
   "outputs": [],
   "source": [
    "#moving the target column to the beggining of the dataframe\n",
    "data_2 = data_2[['cancer_mortalities','diagnosed_annually','study_per_county','geography',\n",
    "                 'median_income','pct_employed','pct_unemployed','only_private_coverage', \n",
    "                 'only_public_covearge','pct_employer_coverage','population_county','poverty_pct', \n",
    "                 'pct_white','pct_black','pct_asian']]"
   ]
  },
  {
   "cell_type": "code",
   "execution_count": 10,
   "metadata": {},
   "outputs": [
    {
     "name": "stdout",
     "output_type": "stream",
     "text": [
      "<class 'pandas.core.frame.DataFrame'>\n",
      "RangeIndex: 3047 entries, 0 to 3046\n",
      "Data columns (total 15 columns):\n",
      "cancer_mortalities       3047 non-null float64\n",
      "diagnosed_annually       3047 non-null float64\n",
      "study_per_county         3047 non-null float64\n",
      "geography                3047 non-null object\n",
      "median_income            3047 non-null int64\n",
      "pct_employed             2895 non-null float64\n",
      "pct_unemployed           3047 non-null float64\n",
      "only_private_coverage    2438 non-null float64\n",
      "only_public_covearge     3047 non-null float64\n",
      "pct_employer_coverage    3047 non-null float64\n",
      "population_county        3047 non-null int64\n",
      "poverty_pct              3047 non-null float64\n",
      "pct_white                3047 non-null float64\n",
      "pct_black                3047 non-null float64\n",
      "pct_asian                3047 non-null float64\n",
      "dtypes: float64(12), int64(2), object(1)\n",
      "memory usage: 357.1+ KB\n"
     ]
    }
   ],
   "source": [
    "#cheching for null and abnormalities in the dataset\n",
    "data_2.info()"
   ]
  },
  {
   "cell_type": "code",
   "execution_count": 11,
   "metadata": {},
   "outputs": [
    {
     "data": {
      "text/plain": [
       "48.45377358490559"
      ]
     },
     "execution_count": 11,
     "metadata": {},
     "output_type": "execute_result"
    }
   ],
   "source": [
    "#removing the null from data by replacing it with the mean\n",
    "data_2['only_private_coverage'].mean()"
   ]
  },
  {
   "cell_type": "code",
   "execution_count": 12,
   "metadata": {},
   "outputs": [],
   "source": [
    "data_2.fillna(data_2.only_private_coverage.median(), inplace= True)"
   ]
  },
  {
   "cell_type": "code",
   "execution_count": 13,
   "metadata": {},
   "outputs": [],
   "source": [
    "data_2.fillna(data_2.pct_employed.median(), inplace = True)"
   ]
  },
  {
   "cell_type": "code",
   "execution_count": 14,
   "metadata": {},
   "outputs": [
    {
     "name": "stdout",
     "output_type": "stream",
     "text": [
      "<class 'pandas.core.frame.DataFrame'>\n",
      "RangeIndex: 3047 entries, 0 to 3046\n",
      "Data columns (total 15 columns):\n",
      "cancer_mortalities       3047 non-null float64\n",
      "diagnosed_annually       3047 non-null float64\n",
      "study_per_county         3047 non-null float64\n",
      "geography                3047 non-null object\n",
      "median_income            3047 non-null int64\n",
      "pct_employed             3047 non-null float64\n",
      "pct_unemployed           3047 non-null float64\n",
      "only_private_coverage    3047 non-null float64\n",
      "only_public_covearge     3047 non-null float64\n",
      "pct_employer_coverage    3047 non-null float64\n",
      "population_county        3047 non-null int64\n",
      "poverty_pct              3047 non-null float64\n",
      "pct_white                3047 non-null float64\n",
      "pct_black                3047 non-null float64\n",
      "pct_asian                3047 non-null float64\n",
      "dtypes: float64(12), int64(2), object(1)\n",
      "memory usage: 357.1+ KB\n"
     ]
    }
   ],
   "source": [
    "#no more null \n",
    "data_2.info()"
   ]
  },
  {
   "cell_type": "code",
   "execution_count": 15,
   "metadata": {},
   "outputs": [
    {
     "data": {
      "text/plain": [
       "(3047, 15)"
      ]
     },
     "execution_count": 15,
     "metadata": {},
     "output_type": "execute_result"
    }
   ],
   "source": [
    "data_2.shape"
   ]
  },
  {
   "cell_type": "code",
   "execution_count": 16,
   "metadata": {},
   "outputs": [],
   "source": [
    "pickle.dump(data_2, open(\"cancer_cleaning.pkl\", \"wb\" ) )"
   ]
  }
 ],
 "metadata": {
  "kernelspec": {
   "display_name": "Python 3",
   "language": "python",
   "name": "python3"
  },
  "language_info": {
   "codemirror_mode": {
    "name": "ipython",
    "version": 3
   },
   "file_extension": ".py",
   "mimetype": "text/x-python",
   "name": "python",
   "nbconvert_exporter": "python",
   "pygments_lexer": "ipython3",
   "version": "3.7.3"
  }
 },
 "nbformat": 4,
 "nbformat_minor": 2
}
